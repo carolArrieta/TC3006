{
  "nbformat": 4,
  "nbformat_minor": 0,
  "metadata": {
    "colab": {
      "provenance": []
    },
    "kernelspec": {
      "name": "python3",
      "display_name": "Python 3"
    },
    "language_info": {
      "name": "python"
    }
  },
  "cells": [
    {
      "cell_type": "code",
      "execution_count": 1,
      "metadata": {
        "id": "3xIrKEJaWSnZ"
      },
      "outputs": [],
      "source": [
        "import numpy as np\n",
        "import matplotlib.pyplot as plt\n",
        "import pandas as pd"
      ]
    },
    {
      "cell_type": "code",
      "source": [
        "#dataset utilizado - \"heart_2020_cleaned.csv\"\n",
        "df = pd.read_csv(r\"heart_2020_cleaned.csv\")\n",
        "test = df.sample(1) #numero de valores a usar para prediccion\n",
        "train = df[~df.isin(test)] #valores a usar para entrenamiento\n",
        "train.dropna(inplace = True)"
      ],
      "metadata": {
        "id": "6liRtIW0mCIn"
      },
      "execution_count": 2,
      "outputs": []
    },
    {
      "cell_type": "markdown",
      "source": [
        "El tipo de problema que se resolverá es por clasificación, esto debido a que solo hay dos posibles salidas, 1 o 0 (binario)"
      ],
      "metadata": {
        "id": "7BqYD2Ccy9ei"
      }
    },
    {
      "cell_type": "code",
      "source": [
        "print(train.describe())"
      ],
      "metadata": {
        "colab": {
          "base_uri": "https://localhost:8080/"
        },
        "id": "BylCi7ivdPzi",
        "outputId": "dd0e4775-ef4e-41c6-9c5f-df10c89b0a37"
      },
      "execution_count": 3,
      "outputs": [
        {
          "output_type": "stream",
          "name": "stdout",
          "text": [
            "                BMI  PhysicalHealth   MentalHealth      SleepTime\n",
            "count  266128.00000   266128.000000  266128.000000  266128.000000\n",
            "mean       28.33846        3.356471       3.896768       7.101301\n",
            "std         6.36968        7.933582       7.955905       1.440450\n",
            "min        12.02000        0.000000       0.000000       1.000000\n",
            "25%        24.03000        0.000000       0.000000       6.000000\n",
            "50%        27.34000        0.000000       0.000000       7.000000\n",
            "75%        31.46000        2.000000       3.000000       8.000000\n",
            "max        94.85000       30.000000      30.000000      24.000000\n"
          ]
        }
      ]
    },
    {
      "cell_type": "code",
      "source": [
        "from sklearn import preprocessing #convertimos los Yes y No de HeartDisease en binario\n",
        "label = preprocessing.LabelEncoder()\n",
        "\n",
        "train['HeartDisease']= label.fit_transform(train['HeartDisease'])\n",
        "test['HeartDisease']= label.fit_transform(test['HeartDisease'])\n",
        "print(train['HeartDisease'].unique())"
      ],
      "metadata": {
        "colab": {
          "base_uri": "https://localhost:8080/"
        },
        "id": "uiqEKLi5q-cS",
        "outputId": "52e364a7-7f27-434b-a9c7-6f9d981c79d6"
      },
      "execution_count": 4,
      "outputs": [
        {
          "output_type": "stream",
          "name": "stdout",
          "text": [
            "[0 1]\n"
          ]
        }
      ]
    },
    {
      "cell_type": "code",
      "source": [
        "train['AlcoholDrinking']= label.fit_transform(train['AlcoholDrinking'])\n",
        "test['AlcoholDrinking']= label.fit_transform(test['AlcoholDrinking'])\n",
        "print(train['AlcoholDrinking'].unique())"
      ],
      "metadata": {
        "colab": {
          "base_uri": "https://localhost:8080/"
        },
        "id": "qbTvqzcPrRro",
        "outputId": "2d30e98e-f029-4f7c-b128-b3578c42ea63"
      },
      "execution_count": 5,
      "outputs": [
        {
          "output_type": "stream",
          "name": "stdout",
          "text": [
            "[0 1]\n"
          ]
        }
      ]
    },
    {
      "cell_type": "code",
      "source": [
        "# Función sigmoide\n",
        "def sigmoid(z):\n",
        "    return 1 / (1 + np.exp(-z))\n",
        "\n",
        "# Función de costo\n",
        "def compute_cost(y, y_pred):\n",
        "    m = len(y)\n",
        "    return -1/m * np.sum(y * np.log(y_pred) + (1 - y) * np.log(1 - y_pred))\n",
        "\n",
        "# Gradiente descendente\n",
        "def gradient_descent(X, y, alpha, epochs):\n",
        "    m, n = X.shape\n",
        "    theta = np.zeros(n)\n",
        "    costs = []\n",
        "\n",
        "    for _ in range(epochs):\n",
        "        z = np.dot(X, theta)\n",
        "        y_pred = sigmoid(z)\n",
        "        gradient = np.dot(X.T, (y_pred - y)) / m\n",
        "        theta -= alpha * gradient\n",
        "        cost = compute_cost(y, y_pred)\n",
        "        costs.append(cost)\n",
        "\n",
        "    return theta, costs\n"
      ],
      "metadata": {
        "id": "jUjugZK7c563"
      },
      "execution_count": 6,
      "outputs": []
    },
    {
      "cell_type": "code",
      "source": [
        "X = np.array(train['AlcoholDrinking'])\n",
        "y = np.array(train['HeartDisease'])"
      ],
      "metadata": {
        "id": "NJu4rG6bdsJ0"
      },
      "execution_count": 11,
      "outputs": []
    },
    {
      "cell_type": "code",
      "source": [
        "# Agrega una columna de unos a X para el término de sesgo (bias)\n",
        "X = np.column_stack((np.ones(len(X)), X))\n",
        "\n",
        "# Configuración de hiperparámetros\n",
        "learning_rate = 0.01\n",
        "num_epochs = 1000"
      ],
      "metadata": {
        "id": "eMWA86FGc_AA"
      },
      "execution_count": 12,
      "outputs": []
    },
    {
      "cell_type": "code",
      "source": [
        "# Entrenamiento del modelo\n",
        "trained_theta, costs = gradient_descent(X, y, learning_rate, num_epochs)\n",
        "\n",
        "# Visualización de la convergencia del costo\n",
        "plt.plot(range(num_epochs), costs)\n",
        "plt.xlabel('Iteraciones')\n",
        "plt.ylabel('Costo')\n",
        "plt.title('Convergencia del costo durante el entrenamiento')\n",
        "plt.show()"
      ],
      "metadata": {
        "colab": {
          "base_uri": "https://localhost:8080/",
          "height": 472
        },
        "id": "G42lTrtkdCAh",
        "outputId": "bd885b87-cabc-4be3-9fe3-bdd262ba5724"
      },
      "execution_count": 17,
      "outputs": [
        {
          "output_type": "display_data",
          "data": {
            "text/plain": [
              "<Figure size 640x480 with 1 Axes>"
            ],
            "image/png": "[encoded data removed]"
          },
          "metadata": {}
        }
      ]
    },
    {
      "cell_type": "code",
      "source": [
        "# Predicciones\n",
        "def predict(X, theta):\n",
        "    z = np.dot(X, theta)\n",
        "    return sigmoid(z)\n",
        "\n",
        "# Probabilidad de que X sea de la clase positiva\n",
        "sample = np.array([1,0])  # Cambia esto por la entrada que quieras predecir\n",
        "probability = predict(sample, trained_theta)\n",
        "print(f'Probabilidad de ser clase positiva: {probability:.2f}')"
      ],
      "metadata": {
        "colab": {
          "base_uri": "https://localhost:8080/"
        },
        "id": "Kjp_7_SkdDv9",
        "outputId": "dae3456f-9ff3-4234-bea0-c50d715a3922"
      },
      "execution_count": 35,
      "outputs": [
        {
          "output_type": "stream",
          "name": "stdout",
          "text": [
            "Probabilidad de ser clase positiva: 0.15\n"
          ]
        }
      ]
    }
  ]
}